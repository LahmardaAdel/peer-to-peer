{
 "cells": [
  {
   "cell_type": "markdown",
   "id": "60aca41f-1bd3-489b-b490-d3d7b0113a19",
   "metadata": {},
   "source": [
    "# DataScienceEcosystem"
   ]
  },
  {
   "cell_type": "markdown",
   "id": "a3f0cb11-ed17-427a-8a68-1959b6568ddc",
   "metadata": {},
   "source": [
    "In this notebook, Data Science Tools and Ecosystem are summarized."
   ]
  },
  {
   "cell_type": "markdown",
   "id": "97a3c3b7-f834-4435-9ccc-fadbb72cefe6",
   "metadata": {},
   "source": [
    "Some of the popular languages that Data Scientists use are:\n",
    "\n",
    "\n",
    "1. Python  \n",
    "2. R  \n",
    "3. SQL  \n",
    "4. Julia  \n",
    "5. Scala  "
   ]
  },
  {
   "cell_type": "markdown",
   "id": "e13b6aef-1a7f-404d-ba08-6f2dc9996bd4",
   "metadata": {},
   "source": [
    "Some of the commonly used libraries used by Data Scientists include:\n",
    "\n",
    "1. NumPy  \n",
    "2. Pandas  \n",
    "3. Matplotlib  \n",
    "4. Scikit-learn  \n",
    "5. TensorFlow  \n",
    "6. Keras  \n"
   ]
  },
  {
   "cell_type": "markdown",
   "id": "f1b743f9-9326-4056-a245-a104e61cd498",
   "metadata": {},
   "source": [
    "| Data Science Tools       |  \n",
    "|---------------------------|  \n",
    "| Jupyter Notebook          |  \n",
    "| RStudio                   |  \n",
    "| Apache Zeppelin           |  \n"
   ]
  },
  {
   "cell_type": "markdown",
   "id": "e1806efb-b345-40b0-8ce2-11accf24b97b",
   "metadata": {},
   "source": [
    "### Below are a few examples of evaluating arithmetic expressions in Python\n"
   ]
  },
  {
   "cell_type": "code",
   "execution_count": 2,
   "id": "1e8f8afa-06ed-4bc0-a64e-48af50a8e8d6",
   "metadata": {},
   "outputs": [
    {
     "data": {
      "text/plain": [
       "17"
      ]
     },
     "execution_count": 2,
     "metadata": {},
     "output_type": "execute_result"
    }
   ],
   "source": [
    "# This is a simple arithmetic expression to multiply then add integers\n",
    "(3 * 4) + 5"
   ]
  },
  {
   "cell_type": "code",
   "execution_count": 4,
   "id": "21f52e48-b3e7-45ea-845f-2af3c56801f2",
   "metadata": {},
   "outputs": [
    {
     "data": {
      "text/plain": [
       "3.3333333333333335"
      ]
     },
     "execution_count": 4,
     "metadata": {},
     "output_type": "execute_result"
    }
   ],
   "source": [
    "#  This will convert 200 minutes to hours by diving by 60\n",
    "200/60"
   ]
  },
  {
   "cell_type": "markdown",
   "id": "a6607056-1684-464f-899d-037142b3d105",
   "metadata": {},
   "source": [
    "**Objectives:**  \n",
    "\n",
    "- List popular languages for Data Science  \n",
    "- Identify commonly used libraries in Data Science  \n",
    "- Create and display tables in Markdown cells  \n",
    "- Write and execute Python code for arithmetic operations  \n",
    "- Convert time units using Python code  \n"
   ]
  },
  {
   "cell_type": "markdown",
   "id": "9fbfc91f-b12d-48c6-803d-5f2c8de81a72",
   "metadata": {},
   "source": [
    "## Author  \n",
    "Lahmarda Adel"
   ]
  },
  {
   "cell_type": "code",
   "execution_count": null,
   "id": "ce456eea-bd2d-4126-9bd8-ddf6d9b46f81",
   "metadata": {},
   "outputs": [],
   "source": []
  }
 ],
 "metadata": {
  "kernelspec": {
   "display_name": "Python 3 (ipykernel)",
   "language": "python",
   "name": "python3"
  },
  "language_info": {
   "codemirror_mode": {
    "name": "ipython",
    "version": 3
   },
   "file_extension": ".py",
   "mimetype": "text/x-python",
   "name": "python",
   "nbconvert_exporter": "python",
   "pygments_lexer": "ipython3",
   "version": "3.12.7"
  }
 },
 "nbformat": 4,
 "nbformat_minor": 5
}
